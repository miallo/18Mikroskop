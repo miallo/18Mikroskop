{
 "metadata": {
  "name": "18Auswertung"
 },
 "nbformat": 3,
 "nbformat_minor": 0,
 "worksheets": [
  {
   "cells": [
    {
     "cell_type": "heading",
     "level": 1,
     "metadata": {},
     "source": [
      "Teil A"
     ]
    },
    {
     "cell_type": "code",
     "collapsed": false,
     "input": [
      "import math\n",
      "import maabara as ma"
     ],
     "language": "python",
     "metadata": {},
     "outputs": [],
     "prompt_number": 19
    },
    {
     "cell_type": "code",
     "collapsed": false,
     "input": [
      "a1=[[2,10],[1.5,7.6],[2,10.2]] #[10 Skalenteile, 1cm]\n",
      "a4=[[0.5,10.2],[0.5,10.3]]#,[0.4,6.2]]\n",
      "b1=[[2,9.7],[2.5,11.9],[3,14.94],[2,9.5]]\n",
      "b4=[[0.5,9.2],[0.8,13.9],[0.4,7.2],[0.9,15.8]]\n",
      "c1k=[[30,12.9],[20,8.6],[40,16.9]]\n",
      "c4k=[[5,8.8],[9,15.7,],[5,8.8]]\n",
      "c1l=[[20,12.9],[15,10.1],[10,6.7]]\n",
      "c4l=[[5,13.2],[6,15.6],[2,5.4]]\n",
      "messungen=[a1,a4,b1,b4,c1k,c4k,c1l,c4l]\n",
      "sk=20 #Skalenteile pro 1cm"
     ],
     "language": "python",
     "metadata": {},
     "outputs": [],
     "prompt_number": 65
    },
    {
     "cell_type": "code",
     "collapsed": false,
     "input": [
      "mittel=[]\n",
      "for i in range(len(messungen)):\n",
      "    mittel.append([])\n",
      "    for j in range(len(messungen[i])):\n",
      "        mittel[i].append([sk*messungen[i][j][1]/messungen[i][j][0],0.2*sk/messungen[i][j][0]])\n",
      "#print mittel\n",
      "x=[]\n",
      "for i in range(len(mittel)):\n",
      "    x.append(ma.weighted_average(mittel[i]))\n",
      "print x\n",
      "#WP=ma.Sheet(\"a*b*sin(x)\")\n",
      "#WP.v('a',200)\n",
      "#WP.v('b',0.11)\n",
      "#WP.v('x',x[0],x[1])\n",
      "#WP.ps()"
     ],
     "language": "python",
     "metadata": {},
     "outputs": [
      {
       "output_type": "stream",
       "stream": "stdout",
       "text": [
        "[(101.07317073170732, 1.2493900951088486), (410.0, 5.6568542494923806), (97.178494623655922, 0.8295613557843402), (352.90322580645164, 2.9329423004270661), (8.5172413793103434, 0.074278135270820736), (35.007633587786259, 0.34948162266441518), (13.144827586206894, 0.14855627054164147), (52.430769230769229, 0.49613893835683381)]\n"
       ]
      }
     ],
     "prompt_number": 66
    },
    {
     "cell_type": "code",
     "collapsed": false,
     "input": [
      "v1=ma.weighted_average([x[0],x[2]])\n",
      "print v1\n",
      "v4=ma.weighted_average([x[1],x[3]])\n",
      "print v4\n",
      "v1O=ma.weighted_average([x[4],x[6]])\n",
      "print v1O\n",
      "v4O=ma.weighted_average([x[5],x[7]])\n",
      "print v4O"
     ],
     "language": "python",
     "metadata": {},
     "outputs": [
      {
       "output_type": "stream",
       "stream": "stdout",
       "text": [
        "(98.370149253731356, 0.69109474046508812)\n",
        "(365.00000000000006, 2.6037782196164776)\n",
        "(9.4427586206896539, 0.066436383882991973)\n",
        "(40.785714285714285, 0.2857142857142857)\n"
       ]
      }
     ],
     "prompt_number": 67
    },
    {
     "cell_type": "code",
     "collapsed": false,
     "input": [],
     "language": "python",
     "metadata": {},
     "outputs": []
    }
   ],
   "metadata": {}
  }
 ]
}