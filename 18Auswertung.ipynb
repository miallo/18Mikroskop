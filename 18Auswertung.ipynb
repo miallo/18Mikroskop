{
 "metadata": {
  "name": "18Auswertung"
 },
 "nbformat": 3,
 "nbformat_minor": 0,
 "worksheets": [
  {
   "cells": [
    {
     "cell_type": "heading",
     "level": 1,
     "metadata": {},
     "source": [
      "Teil A"
     ]
    },
    {
     "cell_type": "code",
     "collapsed": false,
     "input": [
      "import math\n",
      "import maabara as ma"
     ],
     "language": "python",
     "metadata": {},
     "outputs": [],
     "prompt_number": 2
    },
    {
     "cell_type": "code",
     "collapsed": false,
     "input": [
      "a1=[[2,10],[1.5,7.6],[2,10.2]] #[10 Skalenteile, 1cm]\n",
      "a4=[[0.5,10.2],[0.5,10.3]]#,[0.4,6.2]]\n",
      "b1=[[2,9.7],[2.5,11.9],[3,14.94],[2,9.5]]\n",
      "b4=[[0.5,9.2],[0.8,13.9],[0.4,7.2],[0.9,15.8]]\n",
      "c1k=[[30,12.9],[20,8.6],[40,16.9]]\n",
      "c4k=[[5,8.8],[9,15.7,],[5,8.8]]\n",
      "c1l=[[20,12.9],[15,10.1],[10,6.7]]\n",
      "c4l=[[5,13.2],[6,15.6],[2,5.4]]\n",
      "messungen=[a1,a4,b1,b4,c1k,c4k,c1l,c4l]\n",
      "sk=20 #Skalenteile pro 1cm"
     ],
     "language": "python",
     "metadata": {},
     "outputs": [],
     "prompt_number": 3
    },
    {
     "cell_type": "code",
     "collapsed": false,
     "input": [
      "mittel=[]\n",
      "for i in range(len(messungen)):\n",
      "    mittel.append([])\n",
      "    for j in range(len(messungen[i])):\n",
      "        mittel[i].append([sk*messungen[i][j][1]/messungen[i][j][0],0.2*sk/messungen[i][j][0]])\n",
      "#print mittel\n",
      "x=[]\n",
      "for i in range(len(mittel)):\n",
      "    x.append(ma.weighted_average(mittel[i]))\n",
      "print x\n",
      "#WP=ma.Sheet(\"a*b*sin(x)\")\n",
      "#WP.v('a',200)\n",
      "#WP.v('b',0.11)\n",
      "#WP.v('x',x[0],x[1])\n",
      "#WP.ps()"
     ],
     "language": "python",
     "metadata": {},
     "outputs": [
      {
       "output_type": "stream",
       "stream": "stdout",
       "text": [
        "[(101.07317073170732, 1.2493900951088486), (410.0, 5.6568542494923806), (97.178494623655922, 0.8295613557843402), (352.90322580645164, 2.9329423004270661), (8.5172413793103434, 0.074278135270820736), (35.007633587786259, 0.34948162266441518), (13.144827586206894, 0.14855627054164147), (52.430769230769229, 0.49613893835683381)]\n"
       ]
      }
     ],
     "prompt_number": 4
    },
    {
     "cell_type": "code",
     "collapsed": false,
     "input": [
      "v1=ma.weighted_average([x[0],x[2]])\n",
      "print v1\n",
      "v4=ma.weighted_average([x[1],x[3]])\n",
      "print v4\n",
      "v1O=ma.weighted_average([x[4],x[6]])\n",
      "print v1O\n",
      "v4O=ma.weighted_average([x[5],x[7]])\n",
      "print v4O\n",
      "v=[v1,v4]\n",
      "vO=[v1O,v4O]\n",
      "\n",
      "tem=[[10.4,0.1],[8.95,0.09]]\n",
      "temp=ma.weighted_average(tem)\n",
      "print temp\n",
      "for i in range(0,2):\n",
      "    d=ma.Sheet(\"a/b\")\n",
      "    d.v('a',v[i][0],v[i][1],tex='V')\n",
      "    d.v('b',vO[i][0],vO[i][1],tex='V_\\\\text{Obj}')\n",
      "    d.ps()"
     ],
     "language": "python",
     "metadata": {},
     "outputs": [
      {
       "output_type": "stream",
       "stream": "stdout",
       "text": [
        "(98.370149253731356, 0.69109474046508812)\n",
        "(365.00000000000006, 2.6037782196164776)\n",
        "(9.4427586206896539, 0.066436383882991973)\n",
        "(40.785714285714285, 0.2857142857142857)\n",
        "(9.5988950276243106, 0.066896473162244965)\n",
        "\\frac{V}{V_\\text{Obj}}\n"
       ]
      },
      {
       "output_type": "stream",
       "stream": "stdout",
       "text": [
        "\n",
        "10.4 \\pm 0.1\n",
        "\n",
        "\\frac{1}{V_\\text{Obj}^{2}} \\cdot \\sqrt{V^{2} \\cdot \\sigma_{V_\\text{Obj}}^{2} + V_\\text{Obj}^{2} \\cdot \\sigma_{V}^{2}}\n",
        "\n",
        "\\frac{V}{V_\\text{Obj}}\n",
        "\n",
        "8.95 \\pm 0.09\n",
        "\n",
        "\\frac{1}{V_\\text{Obj}^{2}} \\cdot \\sqrt{V^{2} \\cdot \\sigma_{V_\\text{Obj}}^{2} + V_\\text{Obj}^{2} \\cdot \\sigma_{V}^{2}}\n",
        "\n"
       ]
      }
     ],
     "prompt_number": 5
    },
    {
     "cell_type": "code",
     "collapsed": false,
     "input": [
      "l1a=[[2,12.9],[1.5,10.1],[1,6.7]]\n",
      "l4a=[[0.5,13.2],[0.6,15.6],[0.2,5.4]]\n",
      "k1a=[[3,12.9],[2,8.6],[4,16.9]]\n",
      "k4a=[[0.5,8.8],[0.9,15.7],[0.5,8.8]]\n",
      "l=[]\n",
      "k=[]\n",
      "messunge=[l1a,l4a]\n",
      "messung=[k1a,k4a]\n",
      "for i in range(len(messunge)):\n",
      "    l.append([])\n",
      "    k.append([])\n",
      "    for j in range(len(messunge[i])):\n",
      "        l[i].append([sk*messunge[i][j][1]/messunge[i][j][0],0.2*sk/messunge[i][j][0]])\n",
      "        k[i].append([sk*messung[i][j][1]/messung[i][j][0],0.2*sk/messung[i][j][0]])\n",
      "\n",
      "for i in range(len(l)):\n",
      "    la=ma.weighted_average(l[i])\n",
      "    ka=ma.weighted_average(k[i])\n",
      "    f=ma.Sheet('t/(l-k)')\n",
      "    f.v('t',0.936-0.093,0.002)\n",
      "    f.v('l',la[0],la[1],tex='V_\\\\text{m. Tubus}')\n",
      "    f.v('k',ka[0],ka[1],tex='V_\\\\text{o. Tubus}')\n",
      "    f.ps()"
     ],
     "language": "python",
     "metadata": {},
     "outputs": [
      {
       "output_type": "stream",
       "stream": "stdout",
       "text": [
        "\\frac{t}{- V_\\text{o. Tubus} + V_\\text{m. Tubus}}\n",
        "\n",
        "0.0182 \\pm 0.0007\n",
        "\n",
        "\\frac{1}{\\left(V_\\text{o. Tubus} - V_\\text{m. Tubus}\\right)^{2}} \\cdot \\sqrt{\\sigma_{t}^{2} \\cdot \\left(V_\\text{o. Tubus} - V_\\text{m. Tubus}\\right)^{2} + t^{2} \\cdot \\left(\\sigma_{V_\\text{o. Tubus}}^{2} + \\sigma_{V_\\text{m. Tubus}}^{2}\\right)}\n",
        "\n",
        "\\frac{t}{- V_\\text{o. Tubus} + V_\\text{m. Tubus}}\n"
       ]
      },
      {
       "output_type": "stream",
       "stream": "stdout",
       "text": [
        "\n",
        "0.0048 \\pm 0.0002\n",
        "\n",
        "\\frac{1}{\\left(V_\\text{o. Tubus} - V_\\text{m. Tubus}\\right)^{2}} \\cdot \\sqrt{\\sigma_{t}^{2} \\cdot \\left(V_\\text{o. Tubus} - V_\\text{m. Tubus}\\right)^{2} + t^{2} \\cdot \\left(\\sigma_{V_\\text{o. Tubus}}^{2} + \\sigma_{V_\\text{m. Tubus}}^{2}\\right)}\n",
        "\n"
       ]
      }
     ],
     "prompt_number": 6
    },
    {
     "cell_type": "code",
     "collapsed": false,
     "input": [
      "f=ma.Sheet('e/(l)')\n",
      "f.v('e',0.000388,0.000001,tex='r')\n",
      "f.v('l',650e-9,tex='\\\\lamda')\n",
      "f.ps()"
     ],
     "language": "python",
     "metadata": {},
     "outputs": [
      {
       "output_type": "stream",
       "stream": "stdout",
       "text": [
        "\\frac{r}{\\lamda}\n",
        "\n",
        "596.9 \\pm 1.5\n",
        "\n",
        "\\frac{\\sigma_{r}}{\\lamda}\n",
        "\n"
       ]
      },
      {
       "output_type": "pyout",
       "prompt_number": 7,
       "text": [
        "596.9230769230769+/-1.5384615384615383"
       ]
      }
     ],
     "prompt_number": 7
    },
    {
     "cell_type": "code",
     "collapsed": false,
     "input": [
      "f=ma.Sheet('e/L')\n",
      "f.v('e',0.000388,0.000001,tex='r')\n",
      "f.v('L',0.0276,0.0001,tex='e')\n",
      "f.ps()"
     ],
     "language": "python",
     "metadata": {},
     "outputs": [
      {
       "output_type": "stream",
       "stream": "stdout",
       "text": [
        "\\frac{r}{e}\n",
        "\n",
        "0.01406 \\pm 0.00006\n",
        "\n",
        "\\frac{1}{e^{2}} \\cdot \\sqrt{e^{2} \\cdot \\sigma_{r}^{2} + r^{2} \\cdot \\sigma_{e}^{2}}\n",
        "\n"
       ]
      },
      {
       "output_type": "pyout",
       "prompt_number": 9,
       "text": [
        "0.014057971014492753+/-6.250672606575502e-05"
       ]
      }
     ],
     "prompt_number": 9
    },
    {
     "cell_type": "code",
     "collapsed": false,
     "input": [],
     "language": "python",
     "metadata": {},
     "outputs": [],
     "prompt_number": 8
    }
   ],
   "metadata": {}
  }
 ]
}